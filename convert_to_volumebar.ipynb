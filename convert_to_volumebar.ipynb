{
  "nbformat": 4,
  "nbformat_minor": 0,
  "metadata": {
    "colab": {
      "name": "convert_to_volumebar.ipynb",
      "provenance": [],
      "authorship_tag": "ABX9TyPqA15hmr4uhkkqJrWk8jCb",
      "include_colab_link": true
    },
    "kernelspec": {
      "name": "python3",
      "display_name": "Python 3"
    },
    "language_info": {
      "name": "python"
    }
  },
  "cells": [
    {
      "cell_type": "markdown",
      "metadata": {
        "id": "view-in-github",
        "colab_type": "text"
      },
      "source": [
        "<a href=\"https://colab.research.google.com/github/t-fushihara/FS_blog/blob/main/convert_to_volumebar.ipynb\" target=\"_parent\"><img src=\"https://colab.research.google.com/assets/colab-badge.svg\" alt=\"Open In Colab\"/></a>"
      ]
    },
    {
      "cell_type": "code",
      "metadata": {
        "id": "O8drUd4SSiif"
      },
      "source": [
        "import numpy as np # linear algebra\n",
        "import pandas as pd # data processing, CSV file I/O (e.g. pd.read_csv)\n",
        "from datetime import datetime\n",
        "import time"
      ],
      "execution_count": null,
      "outputs": []
    },
    {
      "cell_type": "code",
      "metadata": {
        "id": "tcqLdhdFSqKw"
      },
      "source": [
        "data = pd.read_csv('bitstampUSD_1-min_data_2012-01-01_to_2020-12-31.csv')\n",
        "data.head()"
      ],
      "execution_count": null,
      "outputs": []
    },
    {
      "cell_type": "code",
      "metadata": {
        "id": "hT-TDRBySuOe"
      },
      "source": [
        "data['datetime'] = pd.to_datetime(data.Timestamp, unit='s')\n",
        "data = data.set_index('datetime').drop('Timestamp',axis=1)\n",
        "data = data.dropna(how='any')['2017':].drop('Weighted_Price',axis=1)"
      ],
      "execution_count": null,
      "outputs": []
    },
    {
      "cell_type": "code",
      "metadata": {
        "id": "igy1MKexSwY4"
      },
      "source": [
        "#Volume_barを作成する関数\n",
        "#入力dfの列は必ず以下の通りの順番にする\n",
        "#['Open', 'High', 'Low', 'Close', 'Volume_(BTC)', 'Volume_(Currency)']\n",
        "def create_bar2(df,threshold,bar):\n",
        "  Cum_currency = 0\n",
        "  Cum_BTC = 0\n",
        "  Current_num = 0\n",
        "  Volume_df = pd.DataFrame(columns=df.columns)\n",
        "  progress_i = 0\n",
        "  for index,row in df.iterrows():\n",
        "    #Volumeがリセットされた次の行での処理\n",
        "    if (Cum_currency == 0) | (Cum_BTC == 0) :\n",
        "      open_time = index\n",
        "      open_price = row[0]\n",
        "      high_price = row[1]\n",
        "      low_price = row[2]\n",
        "    \n",
        "    #前の行までの累積の値\n",
        "    prev_Cum_currency = Cum_currency\n",
        "    prev_Cum_BTC = Cum_BTC\n",
        "\n",
        "    #今回の行を足し合わせる\n",
        "    Cum_currency += row[5] #Volume_(Currency)\n",
        "    Cum_BTC += row[4] #Volume_(BTC)\n",
        "\n",
        "    # 〜〜〜〜〜〜〜〜〜〜〜〜〜〜〜〜〜〜〜〜〜〜〜〜〜〜〜〜〜〜〜〜〜〜〜〜〜〜〜〜〜〜〜〜〜〜〜〜〜〜〜〜\n",
        "    #足し合わせた結果閾値から遠のいてしまった場合\n",
        "    #前の行までで区切りをつけて、今処理している行を新しい行とする\n",
        "    if (abs(threshold - prev_Cum_currency) < abs(threshold- Cum_currency)) & (bar == 'Currency'):\n",
        "      #区切りをつける\n",
        "      Volume_df.loc[open_time] = [open_price, high_price, low_price, prev_close, prev_Cum_BTC, prev_Cum_currency]\n",
        "\n",
        "      #今回の行を新しい行として処理\n",
        "      Cum_currency = row[5]\n",
        "      Cum_BTC = row[4]\n",
        "      open_time = index\n",
        "      open_price = row[0]\n",
        "      high_price = row[1]\n",
        "      low_price = row[2]\n",
        "\n",
        "      #次の行にとってのprevだからprev_close\n",
        "      prev_close = row[3]\n",
        "      progress_i += 1\n",
        "      continue\n",
        "\n",
        "    if (abs(threshold - prev_Cum_BTC) < abs(threshold- Cum_BTC)) & (bar == 'BTC'):\n",
        "      #区切りをつける\n",
        "      Volume_df.loc[open_time] = [open_price, high_price, low_price, prev_close, prev_Cum_BTC, prev_Cum_currency]\n",
        "\n",
        "      #今回の行を新しい行として処理\n",
        "      Cum_currency = row[5]\n",
        "      Cum_BTC = row[4]\n",
        "      open_time = index\n",
        "      open_price = row[0]\n",
        "      high_price = row[1]\n",
        "      low_price = row[2]\n",
        "\n",
        "      #次の行にとってのprevだからprev_close\n",
        "      prev_close = row[3]\n",
        "      progress_i += 1\n",
        "      continue\n",
        "\n",
        "    # 〜〜〜〜〜〜〜〜〜〜〜〜〜〜〜〜〜〜〜〜〜〜〜〜〜〜〜〜〜〜〜〜〜〜〜〜〜〜〜〜〜〜〜〜〜〜〜〜〜〜〜〜\n",
        "\n",
        "    if row[1] > high_price:\n",
        "      high_price = row[1]\n",
        "    if row[2] < low_price:\n",
        "      low_price = row[2]\n",
        "\n",
        "    prev_close = row[3]\n",
        "    \n",
        "    #Volume_barの時\n",
        "    if (Cum_BTC > threshold) & (bar == 'BTC'):\n",
        "      close_price = row[3] #close\n",
        "      Volume_df.loc[open_time] = [open_price, high_price, low_price, close_price, Cum_BTC, Cum_currency]\n",
        "      Cum_currency = 0\n",
        "      Cum_BTC = 0\n",
        "\n",
        "    #ドルバーの時\n",
        "    if (Cum_currency > threshold) & (bar == 'Currency'):\n",
        "      close_price = row[3] #close\n",
        "      Volume_df.loc[open_time] = [open_price, high_price, low_price, close_price, Cum_BTC, Cum_currency]\n",
        "      Cum_currency = 0\n",
        "      Cum_BTC = 0\n",
        "    \n",
        "    progress_i += 1\n",
        "  \n",
        "  return Volume_df"
      ],
      "execution_count": null,
      "outputs": []
    },
    {
      "cell_type": "code",
      "metadata": {
        "id": "jK_uQ513S9_f"
      },
      "source": [
        "BAR = 'BTC'\n",
        "Threshold = 200\n",
        "Volume_df = create_bar2(data,Threshold,BAR)\n",
        "Volume_df.head()"
      ],
      "execution_count": null,
      "outputs": []
    }
  ]
}